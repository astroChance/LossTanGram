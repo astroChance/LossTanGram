{
  "nbformat": 4,
  "nbformat_minor": 0,
  "metadata": {
    "colab": {
      "name": "OpTest.ipynb",
      "provenance": [],
      "mount_file_id": "https://github.com/astroChance/LossTanGram/blob/master/OpTest.ipynb",
      "authorship_tag": "ABX9TyOVD0mee0UdVx3Z4dyg89Vl",
      "include_colab_link": true
    },
    "kernelspec": {
      "name": "python3",
      "display_name": "Python 3"
    }
  },
  "cells": [
    {
      "cell_type": "markdown",
      "metadata": {
        "id": "view-in-github",
        "colab_type": "text"
      },
      "source": [
        "<a href=\"https://colab.research.google.com/github/astroChance/LossTanGram/blob/master/OpTest.ipynb\" target=\"_parent\"><img src=\"https://colab.research.google.com/assets/colab-badge.svg\" alt=\"Open In Colab\"/></a>"
      ]
    },
    {
      "cell_type": "markdown",
      "metadata": {
        "id": "Ofz5mt5-mzik",
        "colab_type": "text"
      },
      "source": [
        "Operational Test"
      ]
    },
    {
      "cell_type": "code",
      "metadata": {
        "id": "3WvwzuV7mx0B",
        "colab_type": "code",
        "colab": {}
      },
      "source": [
        "# this file has been edited"
      ],
      "execution_count": null,
      "outputs": []
    },
    {
      "cell_type": "markdown",
      "metadata": {
        "id": "PG1geLiypkZT",
        "colab_type": "text"
      },
      "source": [
        "Another cell added"
      ]
    }
  ]
}